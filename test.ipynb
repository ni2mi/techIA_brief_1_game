{
 "cells": [
  {
   "cell_type": "code",
   "execution_count": 5,
   "metadata": {},
   "outputs": [],
   "source": [
    "import pandas "
   ]
  },
  {
   "cell_type": "code",
   "execution_count": 6,
   "metadata": {},
   "outputs": [],
   "source": [
    "import numpy as np "
   ]
  },
  {
   "cell_type": "code",
   "execution_count": 8,
   "metadata": {},
   "outputs": [],
   "source": [
    "def min_de_distance(cible,source):\n",
    "    # construction de ma matrix avec les len de cible et source \n",
    "    cible = [i for i in cible]\n",
    "    source = [i for i in source]\n",
    "    sol = np.zeros((len(source), len(cible)))\n",
    "    # les premieres ligne et colonne \n",
    "    sol[0] = [j for j in range(len(cible))]\n",
    "    sol[:,0] = [j for j in range(len(source))]\n",
    "    # J'ajoute les conditions initiaux \n",
    "    if len(source) and len(cible) > 2 :\n",
    "        if cible[1] != source[1]:\n",
    "            sol[1,1] = 2 \n",
    "    # Pour toutes les colonnes \n",
    "    for c in range (1,len(cible)):\n",
    "        # Pour toutes les lignes \n",
    "        for l in range (1, len(source)) :\n",
    "            # Si la lettre est différente\n",
    "            if cible[c] != source[l] :\n",
    "                sol[l,c] = min(sol[l-1,c], sol[l,c-1]) + 1\n",
    "            #Si la lettre est pareil \n",
    "            else:\n",
    "                sol[l,c] = sol[l-1,c-1] \n",
    "    return sol  \n",
    "    "
   ]
  },
  {
   "cell_type": "code",
   "execution_count": 13,
   "metadata": {},
   "outputs": [
    {
     "ename": "NameError",
     "evalue": "name 'cible' is not defined",
     "output_type": "error",
     "traceback": [
      "\u001b[1;31m---------------------------------------------------------------------------\u001b[0m",
      "\u001b[1;31mNameError\u001b[0m                                 Traceback (most recent call last)",
      "\u001b[1;32m<ipython-input-13-1ba269963900>\u001b[0m in \u001b[0;36m<module>\u001b[1;34m\u001b[0m\n\u001b[1;32m----> 1\u001b[1;33m \u001b[0mcible\u001b[0m \u001b[1;33m=\u001b[0m \u001b[1;33m[\u001b[0m\u001b[0mi\u001b[0m \u001b[1;32mfor\u001b[0m \u001b[0mi\u001b[0m \u001b[1;32min\u001b[0m \u001b[0mcible\u001b[0m\u001b[1;33m]\u001b[0m\u001b[1;33m\u001b[0m\u001b[1;33m\u001b[0m\u001b[0m\n\u001b[0m\u001b[0;32m      2\u001b[0m \u001b[0msource\u001b[0m \u001b[1;33m=\u001b[0m \u001b[1;33m[\u001b[0m\u001b[0mi\u001b[0m \u001b[1;32mfor\u001b[0m \u001b[0mi\u001b[0m \u001b[1;32min\u001b[0m \u001b[0msource\u001b[0m\u001b[1;33m]\u001b[0m\u001b[1;33m\u001b[0m\u001b[1;33m\u001b[0m\u001b[0m\n\u001b[0;32m      3\u001b[0m \u001b[0mterrain\u001b[0m \u001b[1;33m=\u001b[0m \u001b[0mnp\u001b[0m\u001b[1;33m.\u001b[0m\u001b[0mzeros\u001b[0m\u001b[1;33m(\u001b[0m\u001b[0mlen\u001b[0m\u001b[1;33m(\u001b[0m\u001b[0mcible\u001b[0m\u001b[1;33m)\u001b[0m\u001b[1;33m,\u001b[0m \u001b[0mlen\u001b[0m\u001b[1;33m(\u001b[0m\u001b[0msource\u001b[0m\u001b[1;33m)\u001b[0m\u001b[1;33m)\u001b[0m\u001b[1;33m\u001b[0m\u001b[1;33m\u001b[0m\u001b[0m\n\u001b[0;32m      4\u001b[0m \u001b[0mterrain\u001b[0m\u001b[1;33m[\u001b[0m\u001b[1;36m0\u001b[0m\u001b[1;33m]\u001b[0m \u001b[1;33m=\u001b[0m \u001b[1;33m[\u001b[0m\u001b[0mj\u001b[0m \u001b[1;32mfor\u001b[0m \u001b[0mj\u001b[0m \u001b[1;32min\u001b[0m \u001b[0mrange\u001b[0m\u001b[1;33m(\u001b[0m\u001b[0mlen\u001b[0m\u001b[1;33m(\u001b[0m\u001b[0mcible\u001b[0m\u001b[1;33m)\u001b[0m\u001b[1;33m)\u001b[0m\u001b[1;33m]\u001b[0m\u001b[1;33m\u001b[0m\u001b[1;33m\u001b[0m\u001b[0m\n\u001b[0;32m      5\u001b[0m \u001b[0mterrain\u001b[0m\u001b[1;33m[\u001b[0m\u001b[1;33m:\u001b[0m\u001b[1;33m,\u001b[0m\u001b[1;36m0\u001b[0m\u001b[1;33m]\u001b[0m \u001b[1;33m=\u001b[0m \u001b[1;33m[\u001b[0m\u001b[0mj\u001b[0m \u001b[1;32mfor\u001b[0m \u001b[0mj\u001b[0m \u001b[1;32min\u001b[0m \u001b[0mrange\u001b[0m\u001b[1;33m(\u001b[0m\u001b[0mlen\u001b[0m\u001b[1;33m(\u001b[0m\u001b[0msource\u001b[0m\u001b[1;33m)\u001b[0m\u001b[1;33m)\u001b[0m\u001b[1;33m]\u001b[0m\u001b[1;33m\u001b[0m\u001b[1;33m\u001b[0m\u001b[0m\n",
      "\u001b[1;31mNameError\u001b[0m: name 'cible' is not defined"
     ]
    }
   ],
   "source": [
    "cible = [i for i in cible]\n",
    "source = [i for i in source]\n",
    "terrain = np.zeros(len(cible), len(source))\n",
    "terrain[0] = [j for j in range(len(cible))]\n",
    "terrain[:,0] = [j for j in range(len(source))]\n",
    "\n"
   ]
  },
  {
   "cell_type": "code",
   "execution_count": 15,
   "metadata": {},
   "outputs": [],
   "source": [
    "def min_de_distance(cible,source):\n",
    "    # construction de ma matrix avec les len de cible et source \n",
    "    cible = [i for i in cible]\n",
    "    source = [i for i in source]\n",
    "    sol = np.zeros((len(source), len(cible)))\n",
    "    # les premieres ligne et colonne \n",
    "    sol[0] = [j for j in range(len(cible))]\n",
    "    sol[:,0] = [j for j in range(len(source))]\n",
    "    # J'ajoute les conditions initiaux \n",
    "    if len(source) and len(cible) > 2 :\n",
    "        if cible[1] != source[1]:\n",
    "            sol[1,1] = 2 \n",
    "    # Pour toutes les colonnes \n",
    "    for c in range (1,len(cible)):\n",
    "        # Pour toutes les lignes \n",
    "        for l in range (1, len(source)) :\n",
    "            # Si la lettre est différente\n",
    "            if cible[c] != source[l] :\n",
    "                sol[l,c] = min(sol[l-1,c], sol[l,c-1]) + 1\n",
    "            #Si la lettre est pareil \n",
    "            else:\n",
    "                sol[l,c] = sol[l-1,c-1] \n",
    "    return sol  \n",
    "    "
   ]
  },
  {
   "cell_type": "code",
   "execution_count": 215,
   "metadata": {},
   "outputs": [],
   "source": [
    "terrain = min_de_distance(\"oooooooooo\", \"oooooooooo\")\n",
    "terrain\n",
    "for i in terrain :\n",
    "    i = 0 \n",
    "# a = list((map(lambda x : x -x , terrain)))\n",
    "# a = terrain\n",
    "# a[5][5] = str(a[5][5]).replace(\"0.\",\"159\")\n",
    "# int(a[5][5])"
   ]
  },
  {
   "cell_type": "code",
   "execution_count": null,
   "metadata": {},
   "outputs": [],
   "source": []
  },
  {
   "cell_type": "code",
   "execution_count": 216,
   "metadata": {},
   "outputs": [
    {
     "data": {
      "text/plain": [
       "159159159"
      ]
     },
     "execution_count": 216,
     "metadata": {},
     "output_type": "execute_result"
    }
   ],
   "source": [
    "a[5][5] = str(a[5][5]).replace(\"0\",\"159\")\n",
    "int(a[5][5])"
   ]
  },
  {
   "cell_type": "code",
   "execution_count": 222,
   "metadata": {},
   "outputs": [
    {
     "data": {
      "text/plain": [
       "array([0., 1., 2., 3., 4., 5., 6., 7., 8., 9.])"
      ]
     },
     "execution_count": 222,
     "metadata": {},
     "output_type": "execute_result"
    }
   ],
   "source": [
    "a[0:][0]"
   ]
  },
  {
   "cell_type": "code",
   "execution_count": 76,
   "metadata": {},
   "outputs": [],
   "source": [
    "\n",
    "\n",
    "\n",
    "\n"
   ]
  },
  {
   "cell_type": "code",
   "execution_count": 110,
   "metadata": {},
   "outputs": [],
   "source": [
    "ici = list(a)"
   ]
  },
  {
   "cell_type": "code",
   "execution_count": 63,
   "metadata": {},
   "outputs": [
    {
     "data": {
      "text/plain": [
       "['.', ',']"
      ]
     },
     "execution_count": 63,
     "metadata": {},
     "output_type": "execute_result"
    }
   ],
   "source": [
    "terrain = min_de_distance(\"TOTOTOTOTOTO\", \"TOTOTOTOTOTO\")\n",
    "terrain\n",
    "for i in terrain :\n",
    "    i = 0 \n",
    "a = list((map(lambda x : x -x , b)))\n",
    "replace(\".,\" , \"\")"
   ]
  },
  {
   "cell_type": "code",
   "execution_count": 189,
   "metadata": {},
   "outputs": [
    {
     "data": {
      "text/plain": [
       "'[--I-I-- --I-I-- --I-I-- --I-I-- --I-I-- --I-I-- --I-I-- --I-I-- --I-I-- --I-I-- --I-I-- --I-I--]'"
      ]
     },
     "execution_count": 189,
     "metadata": {},
     "output_type": "execute_result"
    }
   ],
   "source": [
    "mur_haut = str(a[0:][0]).replace(\"0.\",\"--I-I--\")\n",
    "mur_haut\n"
   ]
  },
  {
   "cell_type": "code",
   "execution_count": 147,
   "metadata": {},
   "outputs": [
    {
     "data": {
      "text/plain": [
       "[0, 0, 0, 0, 0, 0, 0, 0, 0, 0, 0, 0]"
      ]
     },
     "execution_count": 147,
     "metadata": {},
     "output_type": "execute_result"
    }
   ],
   "source": [
    "list(b)\n",
    "def recup_int(b):\n",
    "    liste = []\n",
    "    for i in b:\n",
    "        liste.append(int(i))\n",
    "    return liste \n",
    "\n",
    "ligne1 = recup_int(a[0:][0])\n",
    "ligne1\n"
   ]
  },
  {
   "cell_type": "code",
   "execution_count": 165,
   "metadata": {},
   "outputs": [
    {
     "data": {
      "text/plain": [
       "''"
      ]
     },
     "execution_count": 165,
     "metadata": {},
     "output_type": "execute_result"
    }
   ],
   "source": [
    "ligne1  = str(ligne1).replace(\"\",\"\")\n",
    "ligne1"
   ]
  },
  {
   "cell_type": "code",
   "execution_count": 227,
   "metadata": {},
   "outputs": [
    {
     "data": {
      "text/plain": [
       "array([[0., 1., 2., 3., 4., 5., 6., 7., 8.],\n",
       "       [1., 0., 1., 2., 3., 4., 5., 6., 7.],\n",
       "       [2., 1., 0., 1., 2., 3., 4., 5., 6.],\n",
       "       [3., 2., 1., 0., 1., 2., 3., 4., 5.],\n",
       "       [4., 3., 2., 1., 0., 1., 2., 3., 4.],\n",
       "       [5., 4., 3., 2., 1., 0., 1., 2., 3.],\n",
       "       [6., 5., 4., 3., 2., 1., 0., 1., 2.],\n",
       "       [7., 6., 5., 4., 3., 2., 1., 0., 1.],\n",
       "       [8., 7., 6., 5., 4., 3., 2., 1., 0.]])"
      ]
     },
     "execution_count": 227,
     "metadata": {},
     "output_type": "execute_result"
    }
   ],
   "source": [
    "lord = min_de_distance(\"---------\", \"---------\")\n",
    "\n",
    "\n",
    "# a = list((map(lambda x : x -x , b)))\n",
    "# replace(\".,\" , \"\", lord)\n",
    "lord"
   ]
  },
  {
   "cell_type": "code",
   "execution_count": null,
   "metadata": {},
   "outputs": [],
   "source": [
    "from functools import reduce \n",
    "def solution(number):\n",
    "    num = int(number)\n",
    "    liste = []\n",
    "    while num > 0 : \n",
    "        num -= 1\n",
    "        if num %5 == 0 or num %3 == 0 :\n",
    "            liste.append(num) \n",
    "    if number == 0 :\n",
    "        return 0\n",
    "    else:\n",
    "        return sum(liste)"
   ]
  }
 ],
 "metadata": {
  "interpreter": {
   "hash": "7754f1c53bb33bd820706ba8feb51581fc4f65eb5997df896d4d8e79960a24e5"
  },
  "kernelspec": {
   "display_name": "Python 3.8.8 64-bit ('base': conda)",
   "language": "python",
   "name": "python3"
  },
  "language_info": {
   "codemirror_mode": {
    "name": "ipython",
    "version": 3
   },
   "file_extension": ".py",
   "mimetype": "text/x-python",
   "name": "python",
   "nbconvert_exporter": "python",
   "pygments_lexer": "ipython3",
   "version": "3.8.8"
  },
  "orig_nbformat": 4
 },
 "nbformat": 4,
 "nbformat_minor": 2
}
